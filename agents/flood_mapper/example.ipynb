{
 "cells": [
  {
   "cell_type": "markdown",
   "metadata": {},
   "source": [
    "# flood_mapper: NDWI demo\n",
    "Compute NDWI with Google Earth Engine and visualize on a map.\n"
   ]
  },
  {
   "cell_type": "code",
   "execution_count": null,
   "metadata": {},
   "outputs": [],
   "source": [
    "# If running on Colab, uncomment to install deps\n",
    "# !pip install -q geemap earthengine-api leafmap strands\n",
    "import geemap, ee\n",
    "\n",
    "# Authenticate once if needed; on local Jupyter this may open a browser\n",
    "try:\n",
    "    geemap.ee_initialize()\n",
    "except Exception:\n",
    "    ee.Authenticate()\n",
    "    ee.Initialize()"
   ]
  },
  {
   "cell_type": "code",
   "execution_count": null,
   "metadata": {},
   "outputs": [],
   "source": [
    "from main import FloodMapperAgent\n",
    "\n",
    "agent = FloodMapperAgent()\n",
    "result = agent.run(\n",
    "    aoi=[-122.6, 37.6, -122.2, 37.9],  # SF Bay bbox\n",
    "    start_date=\"2023-01-01\",\n",
    "    end_date=\"2023-02-01\",\n",
    "    cloud_pct=20,\n",
    ")\n",
    "result"
   ]
  },
  {
   "cell_type": "code",
   "execution_count": null,
   "metadata": {},
   "outputs": [],
   "source": [
    "m = geemap.Map(center=[37.75, -122.4], zoom=9)\n",
    "m.add_basemap(\"HYBRID\")\n",
    "vis = result.get(\n",
    "    \"ndwi_vis\", {\"min\": -0.2, \"max\": 0.8, \"palette\": [\"#0000FF\", \"#00FFFF\", \"#FFFFFF\"]}\n",
    ")\n",
    "m.addLayer(result[\"ndwi_image\"], vis, \"NDWI\")\n",
    "m"
   ]
  }
 ],
 "metadata": {
  "kernelspec": {
   "display_name": "geo",
   "language": "python",
   "name": "python3"
  },
  "language_info": {
   "codemirror_mode": {
    "name": "ipython",
    "version": 3
   },
   "file_extension": ".py",
   "mimetype": "text/x-python",
   "name": "python",
   "nbconvert_exporter": "python",
   "pygments_lexer": "ipython3",
   "version": "3.12.2"
  }
 },
 "nbformat": 4,
 "nbformat_minor": 2
}
