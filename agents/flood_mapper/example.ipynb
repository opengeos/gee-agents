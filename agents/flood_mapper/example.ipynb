{
 "cells": [
  {
   "cell_type": "markdown",
   "metadata": {},
   "source": [
    "# flood_mapper: NDWI demo\n",
    "Compute NDWI with Google Earth Engine and visualize on a map.\n"
   ]
  },
  {
   "cell_type": "code",
   "execution_count": null,
   "metadata": {},
   "outputs": [],
   "source": [
    "# If running on Colab, uncomment to install deps\n",
    "# !pip install -q geemap earthengine-api leafmap strands\n",
    "import geemap, ee\n",
    "\n",
    "# Authenticate once if needed; on local Jupyter this may open a browser\n",
    "try:\n",
    "    geemap.ee_initialize()\n",
    "except Exception:\n",
    "    ee.Authenticate()\n",
    "    ee.Initialize()"
   ]
  },
  {
   "cell_type": "code",
   "execution_count": null,
   "metadata": {},
   "outputs": [],
   "source": [
    "from main import FloodMapperAgent\n",
    "\n",
    "agent = FloodMapperAgent()\n",
    "result = agent.run(\n",
    "    aoi=[-122.6, 37.6, -122.2, 37.9],  # SF Bay bbox\n",
    "    start_date=\"2023-01-01\",\n",
    "    end_date=\"2023-02-01\",\n",
    "    cloud_pct=20,\n",
    ")\n",
    "result"
   ]
  },
  {
   "cell_type": "code",
   "execution_count": null,
   "metadata": {},
   "outputs": [],
   "source": [
    "from ipyleaflet import TileLayer\n",
    "\n",
    "m = geemap.Map(center=[37.75, -122.4], zoom=9)\n",
    "m.add_basemap(\"HYBRID\")\n",
    "m.add_layer(TileLayer(url=result['ndwi_tile_url'], name='NDWI'))\n",
    "m"
   ]
  }
 ],
 "metadata": {
  "language_info": {
   "name": "python"
  }
 },
 "nbformat": 4,
 "nbformat_minor": 2
}
